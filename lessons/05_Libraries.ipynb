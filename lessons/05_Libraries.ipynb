{
  "nbformat": 4,
  "nbformat_minor": 0,
  "metadata": {
    "colab": {
      "provenance": []
    },
    "kernelspec": {
      "name": "python3",
      "display_name": "Python 3"
    },
    "language_info": {
      "name": "python"
    }
  },
  "cells": [
    {
      "cell_type": "markdown",
      "source": [
        "#BME3053C - Computer Applications for BME\n",
        "\n",
        "<br/>\n",
        "\n",
        "<h1 align=\"center\">Libraries</h1>\n",
        "\n",
        "---\n",
        "\n",
        "<center><h2>Lesson 05</h2></center>\n",
        "\n",
        "<br/>\n",
        "\n",
        "[![Open In Colab](https://colab.research.google.com/assets/colab-badge.svg)](https://colab.research.google.com/github/uf-bme/bme3053c/blob/main/lessons/05_Libraries.ipynb)\n"
      ],
      "metadata": {
        "id": "x6NdKshEGhjy"
      }
    },
    {
      "cell_type": "markdown",
      "source": [
        "This lesson provides a step-by-step tutorial to:\n",
        "1. set up Visual Studio Code (VS Code) with Anaconda, Python, and GitHub\n",
        "2. how to create your first Python module!"
      ],
      "metadata": {
        "id": "02uBZk0SG2gc"
      }
    },
    {
      "cell_type": "markdown",
      "source": [
        "\n",
        "#Step 1: Install Visual Studio Code (VS Code)\n",
        "\n",
        "Visual Studio Code is a lightweight, popular code editor that integrates well with Python.\n",
        "\n",
        "1. [Download VS Code](https://code.visualstudio.com/)\n",
        "\n",
        "  * Download the installer for your OS (Windows, macOS, or Linux) and follow the prompts to install it.\n",
        "\n",
        "2. Launch VS Code:\n",
        "  * Once the installation is complete, open VS Code.\n"
      ],
      "metadata": {
        "id": "fGAQfFeHPolq"
      }
    },
    {
      "cell_type": "markdown",
      "source": [
        "#Step 2: Install Miniconda\n",
        "\n",
        "Miniconda is a distribution of Python and R for scientific computing that simplifies package management and deployment.\n",
        "\n",
        "1. Download [Miniconda](https://docs.anaconda.com/miniconda/):\n",
        "\n",
        "  * Go to the Miniconda official website.\n",
        "  * Download the version compatible with your operating system (Windows, macOS, or Linux).\n",
        "\n",
        "2. Install Miniconda:\n",
        " * Follow the installation instructions for your operating system.\n",
        " * On Windows: Run the .exe file and follow the prompts.\n",
        " * On macOS: Use the .pkg installer.\n",
        " * On Linux: Use the terminal to install with the .sh script.\n",
        "3. Either check the box to add Miniconda to your path variables or add them yourself.\n",
        "4. Log out then log back in\n",
        "  * `conda` might not be recognized otherwise\n",
        "\n",
        "4. Verify Installation: Open a terminal in VS Code and type the following command:\n",
        "\n",
        "```\n",
        "conda --version\n",
        "```\n",
        "This should display the installed version of Conda.\n"
      ],
      "metadata": {
        "id": "Wfe-wsgRORnT"
      }
    },
    {
      "cell_type": "markdown",
      "source": [
        "#Step 3: Install Python and Jupyter Extensions in VS Code\n",
        "VS Code needs the Python extension to provide support for Python development.\n",
        "\n",
        "1. Open VS Code.\n",
        "\n",
        "2. Go to Extensions:\n",
        "\n",
        "  * On the left sidebar, click on the Extensions icon (or press Ctrl+Shift+X).\n",
        "  * In the search bar, type \"Python\" and install the Python extension provided by Microsoft.\n",
        "Verify Python Extension Installation: After installing, you should see a \"Python\" option in the bottom left corner of the VS Code window."
      ],
      "metadata": {
        "id": "fAqsEtW1Puj6"
      }
    },
    {
      "cell_type": "markdown",
      "source": [
        "#Step 4: Configure VS Code to Use Conda Environment\n",
        "You need to configure VS Code to use the Miniconda environment for running Python code.\n",
        "\n",
        "1. Open the Command Palette:\n",
        "\n",
        "  * Press `Ctrl+Shift+P` (or `Cmd+Shift+P` on macOS).\n",
        "  * Type “Python: Select Interpreter” and select it from the dropdown.\n",
        "\n",
        "2. Select Miniconda Interpreter:\n",
        "\n",
        " * You should see a list of Python environments, including your Conda environment.\n",
        " * Select the Conda environment you want to use (e.g., base: conda).\n",
        "\n",
        "3. Create a Conda Environment: To keep things organized, it’s best to work within a virtual environment for each project.\n",
        "\n",
        "```\n",
        "conda create --name bme3053c python=3.12\n",
        "conda activate bme3053c\n",
        "```\n",
        "\n",
        "`bme3053c` is the name of the environment we will use for this lesson"
      ],
      "metadata": {
        "id": "RsfnOo7oP78b"
      }
    },
    {
      "cell_type": "markdown",
      "source": [
        "#Step 5: Install Git\n",
        "Git is needed for version control and to interact with GitHub.\n",
        "\n",
        "1. [Download Git](https://git-scm.com/downloads):\n",
        "  * Go to the Git official website and download Git for your operating system.\n",
        "\n",
        "2. Install Git:\n",
        "  * Follow the installation instructions for your OS.\n",
        "  * During installation, choose the default options unless you have specific preferences.\n",
        "\n",
        "3. Verify Git Installation: Open a terminal (or command prompt) and type the following command:\n",
        "\n",
        "```\n",
        "git --version\n",
        "```\n",
        "\n",
        "This should display the installed Git version. **Make sure the path to git is included in your path variables.**"
      ],
      "metadata": {
        "id": "wFwWZ4jGP-lj"
      }
    },
    {
      "cell_type": "markdown",
      "source": [
        "#Step 6: Set Up GitHub Account and Connect to VS Code\n",
        "\n",
        "GitHub allows you to store your projects in repositories and collaborate with others.\n",
        "\n",
        "1. Install GitHub Extension in VS Code:\n",
        "\n",
        "\n",
        "  * In VS Code, go to the Extensions view (Ctrl+Shift+X).\n",
        "  * Search for “GitHub Pull Requests and Issues” and install it.\n",
        "\n",
        "2. Configure Git with GitHub:\n",
        "\n",
        "3. Open a terminal and configure your Git identity:\n",
        "\n",
        "```\n",
        "git config --global user.name \"Your Name\"\n",
        "git config --global user.email \"your.email@example.com\"\n",
        "```\n",
        "4. Generate an SSH Key for GitHub: To securely connect to GitHub, generate an SSH key:\n",
        "\n",
        "```\n",
        "ssh-keygen -t rsa -b 4096 -C \"your.email@example.com\"\n",
        "```\n",
        "  * Press Enter through the prompts, and it will create an SSH key.\n",
        "  * Copy the SSH key to GitHub:\n",
        "\n",
        "```\n",
        "cat ~/.ssh/id_rsa.pub\n",
        "```\n",
        "\n",
        "Go to your [GitHub SSH settings](https://github.com/settings/keys) and add the copied SSH key.\n",
        "\n",
        "5. Clone your Repository from GitHub to VS Code:\n",
        "\n",
        "  * In GitHub, navigate to the repository you want to clone.\n",
        "  * Click the green \"Code\" button and copy the SSH link.\n",
        "  * Open VS Code, open the terminal (Ctrl+ ~), and run:\n",
        "\n",
        "```\n",
        "git clone git@github.com:username/repository.git\n",
        "```"
      ],
      "metadata": {
        "id": "_7PwJgsSQGvI"
      }
    },
    {
      "cell_type": "markdown",
      "source": [
        "#Step 7: Pushing Code to GitHub\n",
        "\n",
        "Once you've made changes to your code, follow these steps to push your code to GitHub.\n",
        "\n",
        "1. Stage Changes: In the terminal, use the following command to stage your changes:\n",
        "\n",
        "  * git add -A\n",
        "\n",
        "2. Commit Changes: Next, commit your changes with a message:\n",
        "\n",
        "```\n",
        "git commit -m \"Your commit message\"\n",
        "```\n",
        "\n",
        "3. Push to GitHub: Finally, push the changes to your GitHub repository:\n",
        "\n",
        "```\n",
        "git push\n",
        "```\n",
        "  * You may need to follow git info message to se your local repository as upstream to the remote repository that is stored in GitHub's servers"
      ],
      "metadata": {
        "id": "EgBziqEDQNzw"
      }
    },
    {
      "cell_type": "markdown",
      "source": [
        "#Step 8: Additional Tools and Tips\n",
        "\n",
        "Jupyter Notebooks: VS Code also supports Jupyter Notebooks.\n",
        "\n",
        "1. Install Jupyter with `conda` extension if you use them:\n",
        "**Make sure your conda environment is activated first!** *You should be able to see the environment name in the command prompt*\n",
        "\n",
        "```\n",
        "conda install jupyter\n",
        "```\n",
        "\n",
        "In VS Code, press Ctrl+Shift+P and type \"Python: Create New Blank Notebook.\"\n",
        "\n",
        "Auto-formatting with Pylint or Black: Install Pylint or Black in your environment for automatic code formatting.\n",
        "\n",
        "```\n",
        "pip install pylint\n",
        "pip install black\n",
        "```"
      ],
      "metadata": {
        "id": "bRqlRqwyNxXo"
      }
    },
    {
      "cell_type": "markdown",
      "source": [
        "# Step 9: Create Your Own Python Module\n",
        "\n",
        "In Python, a module is a file that contains Python definitions and statements. You can reuse these modules across multiple Python scripts. Let's walk through creating a simple module and using it in a Python program.\n",
        "\n",
        "##9.1: Create a Python Module\n",
        "\n",
        "1. Create a Folder for Your Module:\n",
        "\n",
        "  * In VS Code, open the folder where you are working or create a new project folder.\n",
        "  * Inside the folder, create a new subfolder called mymodule.\n",
        "\n",
        "2. Write Python Code for the Module:\n",
        "\n",
        "3. Inside the mymodule folder, create a Python file called math_operations.py.\n",
        "Add some basic functions that perform mathematical operations. For example:\n",
        "\n",
        "# math_operations.py\n",
        "```\n",
        "def add(a, b):\n",
        "    \"\"\"Return the sum of two numbers.\"\"\"\n",
        "    return a + b\n",
        "\n",
        "def subtract(a, b):\n",
        "    \"\"\"Return the difference of two numbers.\"\"\"\n",
        "    return a - b\n",
        "\n",
        "def multiply(a, b):\n",
        "    \"\"\"Return the product of two numbers.\"\"\"\n",
        "    return a * b\n",
        "\n",
        "def divide(a, b):\n",
        "    \"\"\"Return the quotient of two numbers.\"\"\"\n",
        "    if b == 0:\n",
        "        raise ValueError(\"Cannot divide by zero!\")\n",
        "    return a / b\n",
        "```\n",
        "\n",
        "Verify the Module Structure: Your project folder structure should look like this:\n",
        "\n",
        "```\n",
        "your_project/\n",
        "├── mymodule/\n",
        "│   └── math_operations.py\n",
        "└── main.py\n",
        "```\n",
        "\n",
        "##9.2: Import and Use Your Module\n",
        "\n",
        "Now that you've created your own module, you can import and use it in another Python script.\n",
        "\n",
        "Create a New Python Script:\n",
        "\n",
        "In your project folder (outside of the mymodule folder), create a new file called main.py.\n",
        "1. Import the Module:\n",
        "\n",
        "\n",
        "1. In main.py, import the module and call its functions:\n",
        "\n",
        "```\n",
        "# Import specific functions from your module\n",
        "from mymodule.math_operations import add, subtract, multiply, divide\n",
        "\n",
        "# Test the functions\n",
        "print(f\"Add: 2 + 3 = {add(2, 3)}\")\n",
        "print(f\"Subtract: 5 - 2 = {subtract(5, 2)}\")\n",
        "print(f\"Multiply: 4 * 3 = {multiply(4, 3)}\")\n",
        "print(f\"Divide: 10 / 2 = {divide(10, 2)}\")\n",
        "\n",
        "# Example of dividing by zero\n",
        "try:\n",
        "    print(divide(10, 0))\n",
        "except ValueError as e:\n",
        "    print(e)\n",
        "```\n",
        "3. Run Your Program:\n",
        "\n",
        "Open the terminal in VS Code (Ctrl+ ~) and run the script:\n",
        "bash\n",
        "Copy code\n",
        "python main.py\n",
        "You should see output similar to this:\n",
        "\n",
        "```\n",
        "Add: 2 + 3 = 5\n",
        "Subtract: 5 - 2 = 3\n",
        "Multiply: 4 * 3 = 12\n",
        "Divide: 10 / 2 = 5.0\n",
        "Cannot divide by zero!\n",
        "```\n",
        "\n",
        "##9.3: Package and Reuse the Module\n",
        "Once you've written the module, you can reuse it in different projects by copying the mymodule folder to other projects, or you can install it as a package (more advanced). Here's how you can package it for reuse:\n",
        "\n",
        "1. Turn the Folder into a Package:\n",
        "\n",
        "  * Create a file inside the mymodule folder named __init__.py. This file can be empty but signals to Python that the folder is a package.\n",
        "Your structure should now look like this:\n",
        "\n",
        "```\n",
        "your_project/\n",
        "├── mymodule/\n",
        "│   ├── __init__.py\n",
        "│   └── math_operations.py\n",
        "└── main.py\n",
        "```\n",
        "\n",
        "Reusing the Module: Now, you can copy the mymodule folder into other Python projects and import it just like you did in main.py."
      ],
      "metadata": {
        "id": "r825WT4aOMXz"
      }
    }
  ]
}