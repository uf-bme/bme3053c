{
  "cells": [
    {
      "cell_type": "markdown",
      "metadata": {
        "id": "zxMSBUaZoKCY"
      },
      "source": [
        "#BME3053C - Computer Applications for BME\n",
        "\n",
        "<br/>\n",
        "\n",
        "<h1 align=\"center\">Python Basics - Part 1</h1>\n",
        "\n",
        "---\n",
        "\n",
        "<center><h2>Lesson 02</h2></center>\n",
        "\n",
        "\n",
        "[![Open In Colab](https://colab.research.google.com/assets/colab-badge.svg)](https://colab.research.google.com/github/uf-bme/bme3053c-lessons/blob/main/01_welcome_bme3053c.ipynb)"
      ]
    },
    {
      "cell_type": "markdown",
      "source": [
        "# Variables\n",
        "\n"
      ],
      "metadata": {
        "id": "QPtjGMBnTz9s"
      }
    },
    {
      "cell_type": "markdown",
      "source": [
        "* Enable saving and referencing values throughout an application\n",
        "* The ```=``` symbol is used to assign a value on the right to the name on the left\n",
        "\n",
        "```\n",
        "example_number = 5\n",
        "```\n",
        "\n",
        "\n"
      ],
      "metadata": {
        "id": "XCOVUFhxtRQc"
      }
    },
    {
      "cell_type": "markdown",
      "source": [
        "#### ✏️ **Exercise**  \n",
        " 1. Copy the code above into this cell\n",
        " 2. Click on the variable explorer icon *{x}* in the Colab toolbar and see if your variable is listed.\n"
      ],
      "metadata": {
        "id": "w7K0mVsC3xlw"
      }
    },
    {
      "cell_type": "code",
      "source": [
        "example_number = 5"
      ],
      "metadata": {
        "id": "_wSGRYfR0r-4"
      },
      "execution_count": null,
      "outputs": []
    },
    {
      "cell_type": "markdown",
      "source": [
        "#Functions\n",
        "\n"
      ],
      "metadata": {
        "id": "aveXwdgdtcuv"
      }
    },
    {
      "cell_type": "markdown",
      "source": [
        "\n",
        "* Enables converting multiple lines of code into a single line that can be reused anywhere\n",
        "* Makes code easier to write, read, and maintain\n",
        "* Helps Python control the scope and lifetime of variables, which improves memory management\n",
        "* Called using the function name, followed by a parentheses (e.g., ```print('hello')```)"
      ],
      "metadata": {
        "id": "FLXrklLd170_"
      }
    },
    {
      "cell_type": "markdown",
      "source": [
        "##Creating Functions\n",
        "\n"
      ],
      "metadata": {
        "id": "qGQkOolpnvMt"
      }
    },
    {
      "cell_type": "markdown",
      "source": [
        "**Important**: All code inside a function must be indented using tab or four spaces.\n",
        "* Begin the definition of a new function with def, followed by an appropriate name for the function.\n",
        "* Add parentheses ```()``` after the function name.\n",
        "* Inside the parentheses, list any number of input arguments, separated by commas ,, that your function will use (many functions take no arguments).\n",
        "* Add a colon : after the closing parentheses.\n",
        "* If you want the function to output something, add a return statement, followed by the variable or expression you want to return.\n",
        "  * **If you don't return any  A return statement is not necessary!\n",
        "\n",
        "```\n",
        "def add_two_numbers(x,y):\n",
        "      local_var = x + y\n",
        "      return local_var\n",
        "\n",
        "print(add_two_numbers(3,4))\n",
        "```"
      ],
      "metadata": {
        "id": "IccCaOVgn08M"
      }
    },
    {
      "cell_type": "markdown",
      "source": [
        "#### ✏️ **Exercise**  \n",
        " 1. Copy the code above into this cell\n",
        " 2. Check if local_var is saved in your variable explorer\n"
      ],
      "metadata": {
        "id": "D9T9rUTL3fn_"
      }
    },
    {
      "cell_type": "code",
      "source": [
        "def add_two_numbers(x,y):\n",
        "    local_var = x + y\n",
        "    return local_var\n",
        "\n",
        "print(add_two_numbers(3,4))"
      ],
      "metadata": {
        "id": "g7RKZGJl1Wsu",
        "colab": {
          "base_uri": "https://localhost:8080/"
        },
        "outputId": "8d7e7206-8a7b-4339-c51a-09679d210b0d"
      },
      "execution_count": null,
      "outputs": [
        {
          "output_type": "stream",
          "name": "stdout",
          "text": [
            "7\n"
          ]
        }
      ]
    },
    {
      "cell_type": "markdown",
      "source": [
        "##[Built-in Functions](https://docs.python.org/3/library/functions.html)"
      ],
      "metadata": {
        "id": "rudBHtsmoIcX"
      }
    },
    {
      "cell_type": "markdown",
      "source": [
        "Built-in functions are always available and make it easy to a wide range of tasks, such as:\n",
        "\n",
        "* **Mathematical Operation**s: Functions like round(), sum(), min(), max(), and abs() perform basic mathematical operations on numbers.\n",
        "* **String Manipulation**: Functions like len(), str(), format(), and upper() help manipulate and format strings.\n",
        "\n",
        "* **Type Conversion**: Functions such as int(), float(), str(), and list() convert values from one data type to another.\n",
        "\n",
        "* **Data Structure Operations**: Functions like len(), sorted(), reversed(), and enumerate() help in working with lists, tuples, sets, and dictionaries.\n",
        "\n",
        "* **Input/Output Operations**: Functions such as print() and input() handle basic input and output tasks.\n",
        "\n",
        "* **File Handling**: Functions like open(), read(), write(), and close() manage file operations.\n",
        "\n",
        "* **Iterating and Looping**: Functions like range(), map(), filter(), and zip() assist in looping and applying functions over iterable objects.\n",
        "\n",
        "* **Object Inspection**: Functions such as type(), id(), dir(), and help() are used to inspect objects and get information about them."
      ],
      "metadata": {
        "id": "PQ869uHAqFxw"
      }
    },
    {
      "cell_type": "code",
      "source": [
        "#Run this cell and observe the round() function rounding rules.\n",
        "print('2.5 rounded =',round(3.5))\n",
        "print('3.5 rounded =',int(3.6))"
      ],
      "metadata": {
        "colab": {
          "base_uri": "https://localhost:8080/"
        },
        "id": "NrYjwZvbqIT0",
        "outputId": "714a4d8f-0f1e-48ca-87d8-27dd1396c541"
      },
      "execution_count": null,
      "outputs": [
        {
          "output_type": "stream",
          "name": "stdout",
          "text": [
            "2.5 rounded = 4\n",
            "3.5 rounded = 3\n"
          ]
        }
      ]
    },
    {
      "cell_type": "markdown",
      "source": [
        "# Naming Variables and Functions"
      ],
      "metadata": {
        "id": "WpDr3ngHvCI4"
      }
    },
    {
      "cell_type": "markdown",
      "source": [
        "* Can contain **only** letters, digits, and underscores (\"_\")\n",
        "* Cannot start with a digit\n",
        "* Try to accurately describe your variables with the smallest number of words possible\n",
        "  * *This requires finding a balance between descriptiveness and conciseness.*\n",
        "    * Understanding the logic behind a script is difficult when names either lack good descriptions or are very long.\n",
        "* Cannot be a python reserved word.\n"
      ],
      "metadata": {
        "id": "t5TJhCZDvFve"
      }
    },
    {
      "cell_type": "code",
      "source": [
        "import keyword\n",
        "\n",
        "print(keyword.kwlist)"
      ],
      "metadata": {
        "colab": {
          "base_uri": "https://localhost:8080/"
        },
        "id": "elTirIT0wb7v",
        "outputId": "104533fb-eb31-45ed-f629-78e8aa99d523"
      },
      "execution_count": null,
      "outputs": [
        {
          "output_type": "stream",
          "name": "stdout",
          "text": [
            "['False', 'None', 'True', 'and', 'as', 'assert', 'async', 'await', 'break', 'class', 'continue', 'def', 'del', 'elif', 'else', 'except', 'finally', 'for', 'from', 'global', 'if', 'import', 'in', 'is', 'lambda', 'nonlocal', 'not', 'or', 'pass', 'raise', 'return', 'try', 'while', 'with', 'yield']\n"
          ]
        }
      ]
    },
    {
      "cell_type": "markdown",
      "source": [
        "## [snake_case](https://en.wikipedia.org/wiki/Snake_case) Naming Convention\n"
      ],
      "metadata": {
        "id": "d8fmOow87Y3o"
      }
    },
    {
      "cell_type": "markdown",
      "source": [
        "\n",
        "**In this course we will expect everyone to use the [snake_case](https://en.wikipedia.org/wiki/Snake_case) naming convention!**\n",
        "* Describe your variables and functions using lower case words that are separated by an underscore. (i.e., ```example_number = 5```)\n",
        "\n",
        "---\n",
        "\n",
        "**Points will be deducted if this naming convention isn't followed!**\n",
        "\n",
        "---"
      ],
      "metadata": {
        "id": "crFbvzPKwJe_"
      }
    },
    {
      "cell_type": "markdown",
      "source": [
        "#### ✏️ **Exercise**  \n",
        "1. Fix the variable name below to make it follow the snake_case naming convention."
      ],
      "metadata": {
        "id": "42Ftnuz19d64"
      }
    },
    {
      "cell_type": "code",
      "source": [
        "random_number=19"
      ],
      "metadata": {
        "id": "b7YCzR0XwhQp"
      },
      "execution_count": null,
      "outputs": []
    },
    {
      "cell_type": "markdown",
      "source": [
        "#Variable Types\n"
      ],
      "metadata": {
        "id": "tDfFp1gp9ZuB"
      }
    },
    {
      "cell_type": "markdown",
      "source": [
        "* Variables can store data of different types\n",
        "* You will receive an error message if you try to combine variables with different types (e.g., ```var=3+\"cat\"```)\n"
      ],
      "metadata": {
        "id": "NDm434XL0QXn"
      }
    },
    {
      "cell_type": "markdown",
      "source": [
        "\n",
        "## [Built-in Types](https://docs.python.org/3/library/stdtypes.html)"
      ],
      "metadata": {
        "id": "OhAO_n8S4yZM"
      }
    },
    {
      "cell_type": "markdown",
      "source": [
        "\n",
        "|Type Categories|Types|Examples|\n",
        "|---|---|---|\n",
        "|Numeric| [```int```](https://docs.python.org/3/library/functions.html#int),[```float```](https://docs.python.org/3/library/functions.html#float),[```complex```](https://docs.python.org/3/library/functions.html#complex)|```var=2```,```var=2.0```,```var=2+0j```|\n",
        "|Text|[```str```](https://docs.python.org/3/library/stdtypes.html#text-sequence-type-str)|```var=\"hello\"```|\n",
        "|Boolean| [```bool```](https://docs.python.org/3/library/stdtypes.html#boolean-type-bool)|```var=False```|\n",
        "|None|[```NoneType```](https://docs.python.org/3/library/types.html#types.NoneType)|```var=None```|\n",
        "|Sequence|[```list```](https://docs.python.org/3/library/stdtypes.html#lists),[```tuple```](https://docs.python.org/3/library/stdtypes.html#tuples),[```range```](https://docs.python.org/3/library/stdtypes.html#ranges)|```var=[1,2]```,```var=(1,2)```,```var=range(2)```|\n",
        "|Mapping|[```dict```](https://docs.python.org/3/tutorial/datastructures.html#dictionaries)|```var={\"first_name\":\"Pappy\",\"age\":72}```|\n",
        "|Set|[```set```](https://docs.python.org/3/tutorial/datastructures.html#sets),[```frozenset```](https://docs.python.org/3/library/stdtypes.html#frozenset)|```var={\"first_name\",\"age\"}```,```var=frozenset({\"first_name\",\"age\"})```|\n",
        "|Binary|[```bytes```](https://docs.python.org/3/library/stdtypes.html#bytes),[```bytearray```](https://docs.python.org/3/library/stdtypes.html#bytearray),[```memoryview```](https://docs.python.org/3/library/stdtypes.html#memoryview)|```var=b\"test\"```,```var=bytearray(3)```,```var=memoryview(bytes(3))```|"
      ],
      "metadata": {
        "id": "Jj_jdX244pKI"
      }
    },
    {
      "cell_type": "markdown",
      "source": [
        "##Common Type Details"
      ],
      "metadata": {
        "id": "_6vuTLp3mUQL"
      }
    },
    {
      "cell_type": "markdown",
      "source": [
        "### **Numeric**"
      ],
      "metadata": {
        "id": "Spc35-l-nJ2T"
      }
    },
    {
      "cell_type": "markdown",
      "source": [
        "\n",
        "* [```int```](https://docs.python.org/3/library/functions.html#int): Whole numbers without decimal points\n",
        "  * Required when referencing array indices (e.g., ```var[0]``` is okay but ```var[0.0]``` isn't)\n",
        "* [```float```](https://docs.python.org/3/library/functions.html#float): Double-precision floating point numbers that can represent numbers with 15-17 significant digits of precision\n"
      ],
      "metadata": {
        "id": "YpWMj2b8mKoa"
      }
    },
    {
      "cell_type": "markdown",
      "source": [
        "### **Text**"
      ],
      "metadata": {
        "id": "YuZRol3xnMnI"
      }
    },
    {
      "cell_type": "markdown",
      "source": [
        "\n",
        "\n",
        "  * [```str```](https://docs.python.org/3/library/stdtypes.html#text-sequence-type-str):Sequences of characters that are wrapped with ```\"\"``` or ```''```\n",
        "    * The type of quotation used isn't important but you should stay consistent\n"
      ],
      "metadata": {
        "id": "lt_m_FZpnHzK"
      }
    },
    {
      "cell_type": "markdown",
      "source": [
        "### **Boolean**"
      ],
      "metadata": {
        "id": "ykVSM2hly-2N"
      }
    },
    {
      "cell_type": "markdown",
      "source": [
        "\n",
        "  * [```bool```](https://docs.python.org/3/library/stdtypes.html#boolean-type-bool): Similar to a light switch, can  either be True or False\n",
        "  * You can use type casting to convert numbers to bool and vice versa."
      ],
      "metadata": {
        "id": "dWy-lvdPy-AT"
      }
    },
    {
      "cell_type": "markdown",
      "source": [
        "### **Sequence**"
      ],
      "metadata": {
        "id": "yz12_R7Gzyu7"
      }
    },
    {
      "cell_type": "markdown",
      "source": [
        "\n",
        "  * [```list```](https://docs.python.org/3/library/stdtypes.html#lists): lists of objects that can be modified after creating (lists are mutable)\n",
        "    * Elements in a list can be referenced using brackets ```[]```\n",
        "      * ```A[0]``` will reference the first element of the list (sequences start at 0 in Python and 1 in MATLAB)\n",
        "      * ```A[-1]``` will reference the last element in a list\n",
        "      * ```ints``` must be used to reference specific elements in a list (```x[0.0]``` will return an error)"
      ],
      "metadata": {
        "id": "nbk9v1j8zy18"
      }
    },
    {
      "cell_type": "markdown",
      "source": [
        "### [Slicing](https://python-reference.readthedocs.io/en/latest/docs/brackets/slicing.html) Sequences\n",
        "\n",
        "You can use slicing to reference multiple elements in a sequence.\n",
        "\n",
        "```\n",
        "sequence[start:stop[:step]]\n",
        "```\n",
        "\n",
        "* **start**\n",
        "  * **(Optional)** Defaults to 0\n",
        "  * Starting index of the slice\n",
        "* **stop**\n",
        "  * **(Optional)** Defaults to ```len(sequence)```\n",
        "  * The last index (exclusive) of the slice\n",
        "  * Because ```stop``` is exclusive, ```my_array[:3]``` will return the 0th, 1st, and 2nd element.  \n",
        "* **step**\n",
        "  * **(Optional)** Step value of the slice\n",
        "  * Defaults to 1"
      ],
      "metadata": {
        "id": "T8tgk3Bp5RaR"
      }
    },
    {
      "cell_type": "markdown",
      "source": [
        "#### ✏️ **Exercise**  \n",
        " 1. Print the last three elements of the list below.\n",
        " 2. Use slicing to create the following array: ```new_array=[5,8,2]```\n"
      ],
      "metadata": {
        "id": "35bqdzhGUwMD"
      }
    },
    {
      "cell_type": "code",
      "source": [
        "my_array=[3,5,7,8,1,2]\n",
        "\n",
        "print(my_array[1::2])"
      ],
      "metadata": {
        "colab": {
          "base_uri": "https://localhost:8080/"
        },
        "id": "F6GEWdkh611f",
        "outputId": "8cfb9580-bc74-4cc9-8e9e-08ba16a8da63"
      },
      "execution_count": null,
      "outputs": [
        {
          "output_type": "stream",
          "name": "stdout",
          "text": [
            "[5, 8, 2]\n"
          ]
        }
      ]
    },
    {
      "cell_type": "markdown",
      "source": [
        "### Copying Arrays"
      ],
      "metadata": {
        "id": "3ZyawbnkaDQr"
      }
    },
    {
      "cell_type": "markdown",
      "source": [
        "* When you set one array equal to another using ```=```, you are not creating a new copy of the list. **Instead, you're creating a new reference to the same list.**\n",
        "*  **Modifying the new list will modify the old list!**\n",
        "* You can prevent this by setting the new array equal to the *elements* in the old array (i.e., list2=list1[:]), or using the copy library that is built into python.\n",
        "\n",
        "```\n",
        "import copy\n",
        "list2=copy.deepcopy(list1)\n",
        "```\n",
        "\n",
        "**This is an important thing to keep in mind when working with data structures!** Your functions may behave unexpectedly if you don't keep this in mind!"
      ],
      "metadata": {
        "id": "O1HGyBpgaRpP"
      }
    },
    {
      "cell_type": "code",
      "source": [
        "list1 = [1, 2, 3]"
      ],
      "metadata": {
        "id": "2__KearMbUSx"
      },
      "execution_count": null,
      "outputs": []
    },
    {
      "cell_type": "code",
      "source": [
        "import copy\n",
        "\n",
        "\n",
        "list2 = copy.deepcopy(list1)\n",
        "list2.append(4)\n",
        "\n",
        "print(list1)\n",
        "print(list2)"
      ],
      "metadata": {
        "colab": {
          "base_uri": "https://localhost:8080/"
        },
        "id": "Q7xhDq08acPU",
        "outputId": "d0beef12-b075-41d6-8e3e-e502137b42cc"
      },
      "execution_count": null,
      "outputs": [
        {
          "output_type": "stream",
          "name": "stdout",
          "text": [
            "[1, 2, 3]\n",
            "[1, 2, 3, 4]\n"
          ]
        }
      ]
    },
    {
      "cell_type": "markdown",
      "source": [
        "##Checking an Object's Type\n",
        "**Python provides a ```type()``` function that can be used to check a variable's type**"
      ],
      "metadata": {
        "id": "Avwzgj-B22X_"
      }
    },
    {
      "cell_type": "code",
      "source": [
        "print(type(2))\n",
        "print(type(2.0))"
      ],
      "metadata": {
        "colab": {
          "base_uri": "https://localhost:8080/"
        },
        "id": "6719Af3t3GiA",
        "outputId": "414dd7ec-fb88-4d45-87e9-2756da848bee"
      },
      "execution_count": null,
      "outputs": [
        {
          "output_type": "stream",
          "name": "stdout",
          "text": [
            "<class 'int'>\n",
            "<class 'float'>\n"
          ]
        }
      ]
    },
    {
      "cell_type": "markdown",
      "source": [
        "##Type Casting"
      ],
      "metadata": {
        "id": "lFjABdpS5ev4"
      }
    },
    {
      "cell_type": "markdown",
      "source": [
        "### **Implicit Type Casting**\n",
        "Python automatically converts data types into another when it's required for a  particular operation."
      ],
      "metadata": {
        "id": "5F0zx9Fp5rHJ"
      }
    },
    {
      "cell_type": "code",
      "source": [
        "x = 5\n",
        "y = 3.3\n",
        "z = x + y\n",
        "\n",
        "\n",
        "print('z =', z)\n",
        "print('x type =',type(x))\n",
        "print('y type =',type(y))\n",
        "print('z type =',type(z))"
      ],
      "metadata": {
        "colab": {
          "base_uri": "https://localhost:8080/"
        },
        "id": "dqNU8WB152En",
        "outputId": "b69a048e-6ff8-4ad3-828d-0857b4bc0010"
      },
      "execution_count": null,
      "outputs": [
        {
          "output_type": "stream",
          "name": "stdout",
          "text": [
            "z = 8.3\n",
            "x type = <class 'int'>\n",
            "y type = <class 'float'>\n",
            "z type = <class 'float'>\n"
          ]
        }
      ]
    },
    {
      "cell_type": "markdown",
      "source": [
        "### Explicit Type Casting\n",
        "Explicit type casting can be used to manually convert a variable to a specific type"
      ],
      "metadata": {
        "id": "gzhQ3-vI6Idp"
      }
    },
    {
      "cell_type": "code",
      "source": [
        "x = 5\n",
        "y = 3.0\n",
        "\n",
        "z = x + int(y)\n",
        "print('z =', z)\n",
        "print('x type =',type(x))\n",
        "print('y type =',type(y))\n",
        "print('z type =',type(z))"
      ],
      "metadata": {
        "colab": {
          "base_uri": "https://localhost:8080/"
        },
        "id": "HcqXxtaH6nlJ",
        "outputId": "4a6f74c6-aaea-40aa-c211-0945310a34ba"
      },
      "execution_count": null,
      "outputs": [
        {
          "output_type": "stream",
          "name": "stdout",
          "text": [
            "z = 8\n",
            "x type = <class 'int'>\n",
            "y type = <class 'float'>\n",
            "z type = <class 'int'>\n"
          ]
        }
      ]
    },
    {
      "cell_type": "markdown",
      "source": [
        "Casting a float to an integer will always round down!\n"
      ],
      "metadata": {
        "id": "EsYKOETd8usR"
      }
    },
    {
      "cell_type": "code",
      "source": [
        "x = 5\n",
        "y = 3.8\n",
        "\n",
        "z = x + int(y)\n",
        "print('z =', z)\n",
        "print('x type =',type(x))\n",
        "print('y type =',type(y))\n",
        "print('z type =',type(z))"
      ],
      "metadata": {
        "colab": {
          "base_uri": "https://localhost:8080/"
        },
        "id": "vOC_EsrN370_",
        "outputId": "e16acd60-b822-4df3-d72c-83a5965c3ebf"
      },
      "execution_count": null,
      "outputs": [
        {
          "output_type": "stream",
          "name": "stdout",
          "text": [
            "z = 8\n",
            "x type = <class 'int'>\n",
            "y type = <class 'float'>\n",
            "z type = <class 'int'>\n"
          ]
        }
      ]
    },
    {
      "cell_type": "code",
      "source": [
        "\n",
        "array=[1,2,3,4,5,6,7]\n",
        "\n",
        "new_array = array[1:6:2]\n",
        "\n",
        "len(new_array)"
      ],
      "metadata": {
        "colab": {
          "base_uri": "https://localhost:8080/"
        },
        "id": "B8Y3riLc1Nhc",
        "outputId": "47c5c78d-b72e-4bab-9376-23ff08ed9d2f"
      },
      "execution_count": null,
      "outputs": [
        {
          "output_type": "execute_result",
          "data": {
            "text/plain": [
              "3"
            ]
          },
          "metadata": {},
          "execution_count": 4
        }
      ]
    },
    {
      "cell_type": "markdown",
      "source": [
        "#### ✏️ **Exercise**  \n",
        " 1. Change the value of ```my_number``` so that it is false when casted as a bool\n",
        " 2. Cast ```True``` to an ```int``` or ```float``` and print the value.\n"
      ],
      "metadata": {
        "id": "IN6POyrIzP04"
      }
    },
    {
      "cell_type": "code",
      "source": [
        "my_number=0\n",
        "print(bool(my_number))\n",
        "print(int(True))\n"
      ],
      "metadata": {
        "id": "9KyeLEbTzUPq",
        "colab": {
          "base_uri": "https://localhost:8080/"
        },
        "outputId": "30cb4bfc-96e6-4014-9121-c28d062a92c8"
      },
      "execution_count": null,
      "outputs": [
        {
          "output_type": "stream",
          "name": "stdout",
          "text": [
            "False\n",
            "1\n"
          ]
        }
      ]
    },
    {
      "cell_type": "markdown",
      "source": [
        "#Order of Operations\n",
        "Python follows PEMDAS rules when evaluating complex expressions"
      ],
      "metadata": {
        "id": "SlDPyxTXie8P"
      }
    },
    {
      "cell_type": "markdown",
      "source": [
        "<center><img  src=\"https://github.com/snsie/aicc24/raw/main/graphics/pemdas.gif\" alt='Colab Features'/></center>"
      ],
      "metadata": {
        "id": "ewnqYZt0i2ng"
      }
    },
    {
      "cell_type": "markdown",
      "source": [
        "#### ✏️ **Exercise**\n",
        "\n",
        "1. Create a function that computes this expression when called: $\\frac{19 - 4^3}{5}$.\n",
        "\n",
        "* **Hint #1:** $4^3$ can be written in code as `4**3` (4^3 does not work!).\n",
        "* **Hint #2:** The function should return -9.0.\n",
        "* **Hint #3:** Remember `PEMDAS`.\n",
        "* **Hint #4:** No arguments are needed for this function."
      ],
      "metadata": {
        "id": "sbB6iVy5kag8"
      }
    },
    {
      "cell_type": "code",
      "source": [
        "list1 = [1, 2, 3]\n",
        "list2 = list1\n",
        "list2.append(4)\n",
        "list1.append(4)\n",
        "print(list1)\n",
        "print(list2)"
      ],
      "metadata": {
        "id": "qP2vIoMQzhMh",
        "colab": {
          "base_uri": "https://localhost:8080/"
        },
        "outputId": "ed0f5de4-6205-47d8-8fd0-04dd0ed23c47"
      },
      "execution_count": null,
      "outputs": [
        {
          "output_type": "stream",
          "name": "stdout",
          "text": [
            "[1, 2, 3, 4, 4]\n",
            "[1, 2, 3, 4, 4]\n"
          ]
        }
      ]
    },
    {
      "cell_type": "markdown",
      "source": [
        "#[String Methods](https://docs.python.org/3/library/stdtypes.html#string-methods)\n"
      ],
      "metadata": {
        "id": "SG-iTZ-7rF1M"
      }
    },
    {
      "cell_type": "markdown",
      "source": [
        "* Python provides a variety of [String Methods](https://docs.python.org/3/library/stdtypes.html#string-methods) to make it easy modify strings.\n",
        "* String methods are built into stings and be called as shown below:\n",
        "\n"
      ],
      "metadata": {
        "id": "gK0nH1MnrK_P"
      }
    },
    {
      "cell_type": "code",
      "source": [
        "my_name='00Scott00'.strip('0')\n",
        "\n",
        "print('my_name =',my_name)"
      ],
      "metadata": {
        "colab": {
          "base_uri": "https://localhost:8080/"
        },
        "id": "JkSw6MHklHJ4",
        "outputId": "d5b01120-6042-4fd7-fd0f-fa374117f686"
      },
      "execution_count": null,
      "outputs": [
        {
          "output_type": "stream",
          "name": "stdout",
          "text": [
            "my_name = Scott\n"
          ]
        }
      ]
    },
    {
      "cell_type": "markdown",
      "source": [
        "#### ✏️**Exercise**\n",
        "1. Use python string methods to replace ```Wasps``` with something else you love.\n",
        "\n",
        "\n",
        " * **Hint #1:** ```replace``` is a good method for this task\n",
        " * **Hint #2:** ```replace``` does not mutate the original string!\n",
        " * **Hint #2:** Character patterns are case sensitive"
      ],
      "metadata": {
        "id": "lU2Ce--4qCE9"
      }
    },
    {
      "cell_type": "code",
      "source": [
        "fav_animal_str=\"I love Wasps!\"\n",
        "\n",
        "print(fav_animal_str)"
      ],
      "metadata": {
        "id": "G-wxNSVU3-bg",
        "colab": {
          "base_uri": "https://localhost:8080/"
        },
        "outputId": "98046c8c-799a-439a-ae2e-4de34408b1d1"
      },
      "execution_count": null,
      "outputs": [
        {
          "output_type": "stream",
          "name": "stdout",
          "text": [
            "I love Wasps!\n"
          ]
        }
      ]
    },
    {
      "cell_type": "markdown",
      "source": [
        "#Control Flow Tools"
      ],
      "metadata": {
        "id": "NX6dWvxzWfRx"
      }
    },
    {
      "cell_type": "markdown",
      "source": [
        "## [```if``` Statements](https://docs.python.org/3/tutorial/controlflow.html#if-statements)"
      ],
      "metadata": {
        "id": "MiBCUrbcW-Ru"
      }
    },
    {
      "cell_type": "markdown",
      "source": [
        "* Allow you to execute a block of code only if a specified condition is true.\n",
        "* An ```if``` statement starts with the keyword ```if```, followed by a condition, and a colon ```:```. The indented block of code below it runs if the condition evaluates to True.\n",
        "```\n",
        "if condition1:\n",
        "    print('condition1 is',True)\n",
        "```\n",
        "* You can extend if statements with ```else``` for an alternative action if the condition is false, or use ```elif``` (short for \"else if\") to check additional conditions in sequence.\n",
        "  * If multiple ```elif``` conditions are True, only the code in the first True ```elif``` will be run\n",
        "   \n",
        "```\n",
        "x = int(input(\"Please enter an integer: \"))\n",
        "if x < 0:\n",
        "    print('Input is less than zero')\n",
        "elif x == 0:\n",
        "    print('Input equals zero')\n",
        "elif x > 0:\n",
        "    print('Input is greater than zero')\n",
        "else:\n",
        "    print(ValueError(\"x is not an integer\"))\n",
        "```\n",
        "\n",
        "* **Combining Conditions**: The ```and``` operator is used to combine multiple conditions in an if statement, requiring all conditions to be true for the overall condition to be true. For example, ```if condition1 and condition2:``` only executes the block if both condition1 and condition2 are true.\n",
        "  * ```&``` can be used instead of ```and```.\n",
        "* **Evaluating Alternatives**: The ```or``` operator allows you to execute a block of code if at least one of the conditions is true. For example, ```if condition1 or condition2:``` will run the block if either condition1 or condition2 is true.\n",
        "  * ```|``` can be used instead of ```or```.\n",
        "* **Negating Conditions**: The ```not``` keyword in an ```if``` statement is used to invert a condition, making the block of code execute only if the condition is false. For example, ```if not condition:``` will run the block if condition evaluates to False.\n"
      ],
      "metadata": {
        "id": "lx4frFPOXwL0"
      }
    },
    {
      "cell_type": "markdown",
      "source": [
        "###Comparison Opperators"
      ],
      "metadata": {
        "id": "bdHBLkTLdeJl"
      }
    },
    {
      "cell_type": "markdown",
      "source": [
        "|Operator|Definition|\n",
        "|-----|-----|\n",
        "| < | less than|\n",
        "| > | greater than |\n",
        "| == | equal to |\n",
        "| <= | less than or equal to|\n",
        "| >= | greater than or equal to |\n",
        "| != | not equal to |"
      ],
      "metadata": {
        "id": "tkdQAguSdg0_"
      }
    },
    {
      "cell_type": "markdown",
      "source": [
        "#### ✏️**Exercise**\n",
        "In the US, most high school students are between the ages of 14 and 18.\n",
        "\n",
        "1. Create a function that receives a person's age as a user [```input```](https://docs.python.org/3/library/functions.html#input) and informs you if the person is \"likely in high school\" or \"too young\" or \"too old\".\n",
        "2. The function should inform you if \"The provided age isn't valid\" (e.g., if the input isn't a valid number)\n",
        "\n",
        "\n",
        "* **Hint #1:** The [```input```](https://docs.python.org/3/library/functions.html#input) function can be used to receive an input **as a string**."
      ],
      "metadata": {
        "id": "9k_qgUP1hrwq"
      }
    },
    {
      "cell_type": "code",
      "source": [],
      "metadata": {
        "id": "-KlifLrWlzmh"
      },
      "execution_count": null,
      "outputs": []
    },
    {
      "cell_type": "markdown",
      "source": [
        "###  Conditions > 2\n",
        "* If more than two conditions are required to be true for some code to run, then parentheses ```()``` should be used to group conditions. For example, ```if condition1 and (condition2 or not condition3):``` enables nuanced decision-making by combining and nesting conditions within a single statement.\n",
        "* Parentheses are not required if all conditions need to be true (```condition1 and condition2 and condition3```)  or only one condition needs to be true (```condition1 or condition2 or condition3```)\n"
      ],
      "metadata": {
        "id": "91LckqTYe2DW"
      }
    },
    {
      "cell_type": "markdown",
      "source": [
        "#### ✏️**Exercise**\n",
        "\n",
        "You are writing a program that determines whether a student qualifies for an honors program based on their grades and extracurricular activities. The criteria for qualification are as follows:\n",
        "\n",
        "* The student must have an average grade of at least 85, **and**\n",
        "* The student must either:\n",
        "  * Be involved in at least 2 extracurricular activities, **or**\n",
        "  * Have an average grade of at least 90.\n",
        "\n",
        "1. Write a function that checks if a student qualifies for the honors program based on these criteria.\n"
      ],
      "metadata": {
        "id": "Pa5ihhEph_2A"
      }
    },
    {
      "cell_type": "code",
      "source": [
        "# Example values\n",
        "average_grade = 86\n",
        "num_activities = 3"
      ],
      "metadata": {
        "id": "08ZofhlsXQ-B"
      },
      "execution_count": null,
      "outputs": []
    },
    {
      "cell_type": "markdown",
      "source": [
        "## [```match``` Statements](https://docs.python.org/3/tutorial/controlflow.html#match-statements)"
      ],
      "metadata": {
        "id": "NDz4Cd2LaVoX"
      }
    },
    {
      "cell_type": "markdown",
      "source": [
        "* The ```match``` statements can be used to handle multiple conditions by matching the expression against various patterns defined in ```case``` clauses.\n",
        "\n",
        "```\n",
        "def http_error(status):\n",
        "    match status:\n",
        "        case 400:\n",
        "            return \"Bad request\"\n",
        "        case 404:\n",
        "            return \"Not found\"\n",
        "        case 418:\n",
        "            return \"I'm a teapot\"\n",
        "        case _:\n",
        "            return \"Something's wrong with the internet\"\n",
        "```"
      ],
      "metadata": {
        "id": "PdSxiYxVhPm9"
      }
    },
    {
      "cell_type": "markdown",
      "source": [
        "##```for``` Statements"
      ],
      "metadata": {
        "id": "CLLyX1BGmnI5"
      }
    },
    {
      "cell_type": "markdown",
      "source": [
        "* **Iterating Over Sequences:** A ```for``` loop allows you to iterate over a sequence (like a list, tuple, dictionary, set, or string), executing a block of code for each item in the sequence. This is useful for processing items in a collection one by one.\n",
        "\n",
        "* **Range-Based Loops:** You can use the ```range()``` function in conjunction with a for loop to iterate over a sequence of numbers, which is helpful for repeating actions a specific number of times or when indexing is needed.\n",
        "\n",
        "* **Automatic Unpacking:** In a for loop, Python can automatically unpack elements if they are iterable, like tuples. For example, for key, value in dictionary.items(): lets you directly access the key and value in each iteration, simplifying code that works with pairs of items.\n",
        "\n"
      ],
      "metadata": {
        "id": "ycZI-uocms78"
      }
    },
    {
      "cell_type": "code",
      "source": [
        "names=['jack','jill','joe','suzan']\n",
        "for name in names:\n",
        "    print(name)"
      ],
      "metadata": {
        "id": "ytrs0Tx22CSw"
      },
      "execution_count": null,
      "outputs": []
    },
    {
      "cell_type": "markdown",
      "source": [
        "#### ✏️**Exercise**\n",
        "1. Create a function that receives an array and returns an array with elements equal to twice the value of the input array.\n",
        "2. The function should inform you if the \"The provided array isn't valid\" (e.g., if the input isn't an array or any of the elements aren't valid numbers)\n",
        "\n",
        "\n",
        " * **Hint #1:** One way to do this is to first create an empty list ```output_list=[]``` and [```append```](https://docs.python.org/3/tutorial/datastructures.html) the modified elements to the new list."
      ],
      "metadata": {
        "id": "xdNGyQzVnyO5"
      }
    },
    {
      "cell_type": "code",
      "source": [
        "example_input_array=[5,8,2,7,0]"
      ],
      "metadata": {
        "id": "0sclM9v0nuFd"
      },
      "execution_count": null,
      "outputs": []
    },
    {
      "cell_type": "markdown",
      "source": [
        "\n",
        "\n",
        " ### The [```range```](https://docs.python.org/3/tutorial/controlflow.html#the-range-function) Function\n",
        "\n",
        " Immutable sequence of ordered numbers that is commonly used to loop through code a specific number of times in [```for```](https://docs.python.org/3/reference/compound_stmts.html#for) loops\n",
        "\n",
        "* The arguments provided when creating a ```range``` object can be used to set a ```start```, a ```stop```, and a ```step``` interval when creating an ordered list of integers\n",
        "  * Will iterate from\n",
        "  * ```start```: where the sequence will begin (inclusive)\n",
        "    * Defaults to 0\n",
        "  * ```stop```: where the sequence will begin (exclusive)\n",
        "    * No default value\n",
        "  * ```step```:\n",
        "    * defaults to 1\n",
        "    * cannot be 0\n",
        "* The number of arguments provided affects the way they are interpreted.\n",
        "  * ```range(stop)```: Providing a single argument will set the ```stop``` and set ```start``` and ```step``` to their default values.\n",
        "  *  ```range(start,stop)```: Providing two variables will set ```start``` and ```stop```. ```step``` will be set to 1\n",
        "    * prividing a ```stop``` that is higher than the  histep and a single argument will set the ```stop``` and set ```start``` and ```step``` to their default values."
      ],
      "metadata": {
        "id": "6WixXh_D48jK"
      }
    },
    {
      "cell_type": "code",
      "source": [
        "for i in range(5):\n",
        "  print(i)"
      ],
      "metadata": {
        "id": "MnbaavLBrkB1"
      },
      "execution_count": null,
      "outputs": []
    },
    {
      "cell_type": "code",
      "source": [
        "#From: https://docs.python.org/3/library/stdtypes.html#ranges\n",
        "print(list(range(5)),'= range(5)')\n",
        "\n",
        "print(list(range(1,5)),'= range(1,5)')\n",
        "print(list(range(0, 5, 2)),'= range(0, 5, 2)')\n",
        "print(list(range(0, 10, 3)),'= range(0, 10, 3)')\n",
        "print(list(range(0, -10, -1)),'= range(0, -10, -1)')\n",
        "print(list(range(0)), '= range(0)')\n",
        "print(list(range(4, 2)),'= range(4, 2)')\n"
      ],
      "metadata": {
        "id": "7VepGNCAVA0M"
      },
      "execution_count": null,
      "outputs": []
    },
    {
      "cell_type": "markdown",
      "source": [
        "### ✏️**Exercise**\n",
        "In this exercise, you will analyze a series of respiration rate measurements taken from a patient over time. The goal is to determine how many times the patient's respiration rate was above a critical threshold.\n",
        "\n",
        "A physician measured the amount of breaths a patient took over **30 second** intervals. A respiration rate **above** 20 breaths **per minute** may indicate tachypnea (rapid breathing), which could be a sign of respiratory distress.\n",
        "\n",
        "1. Your task is to measure how long (in minutes) the patient's respiration rate exceeded this threshold using a for loop and range.\n"
      ],
      "metadata": {
        "id": "5VIEgSzypiKM"
      }
    },
    {
      "cell_type": "code",
      "source": [
        "breath_count = [10,8,14,9,10,10,9,11,10,9]\n"
      ],
      "metadata": {
        "id": "nEpeifrYqqtv"
      },
      "execution_count": null,
      "outputs": []
    },
    {
      "cell_type": "markdown",
      "source": [
        "## Continue and Break Statements"
      ],
      "metadata": {
        "id": "H_pHRfz7zazG"
      }
    },
    {
      "cell_type": "markdown",
      "source": [
        "\n",
        "* **continue Statement:** Skips the current iteration of a loop and moves directly to the next iteration, effectively ignoring the remaining code within the loop for that iteration.\n",
        "\n",
        "* **break Statement:** Exits the loop entirely, terminating any further iterations, and proceeds with the code following the loop. It's often used when a certain condition is met and no further processing is needed within the loop."
      ],
      "metadata": {
        "id": "oiSqHf8xzqE7"
      }
    },
    {
      "cell_type": "code",
      "source": [
        "for i in range(8):\n",
        "  if i < 2:\n",
        "    continue\n",
        "  if i < 4:\n",
        "    print('i =', i)\n",
        "    continue\n",
        "  break\n",
        "print('final i =',i)"
      ],
      "metadata": {
        "id": "fBoeMcwTzzxa"
      },
      "execution_count": null,
      "outputs": []
    },
    {
      "cell_type": "markdown",
      "source": [
        "### ✏️**Exercise**\n",
        "\n",
        "In this exercise, you will simulate the process of monitoring and filtering ECG (electrocardiogram) signal data. Your goal is to analyze the signal for anomalies while filtering out noise. You will use a ```for``` loop to iterate through the data, a ```continue``` statement to skip over noisy data, and a ```break``` statement to stop the analysis if a critical anomaly is detected.\n",
        "\n",
        "You have a list of ECG signal values representing the heart's electrical activity over time. The ECG data may contain some noisy values (e.g., values below 0 or above 200), which should be skipped. If a critical anomaly is detected (e.g., a sudden drop in the signal value **below** 30), the analysis should stop immediately.\n",
        "\n",
        "1. Print each valid ECG value being analyzed and, if the loop is stopped, print a message indicating that a critical anomaly was detected."
      ],
      "metadata": {
        "id": "--CUyZnp0Mw-"
      }
    },
    {
      "cell_type": "code",
      "source": [
        "ecg_values = [120, 118, -10, 130, 210, 30, 25, 75, 180, 45, 220]\n"
      ],
      "metadata": {
        "id": "W8kryIs90YUT"
      },
      "execution_count": null,
      "outputs": []
    },
    {
      "cell_type": "markdown",
      "source": [
        "## ```while``` Statements\n"
      ],
      "metadata": {
        "id": "aBht6-sdIgzI"
      }
    },
    {
      "cell_type": "markdown",
      "source": [
        "* Repeatedly executes a block of code as long as a specified condition remains true.\n",
        "* Often used when the number of iterations is not known in advance."
      ],
      "metadata": {
        "id": "L3qFvZgKlrQt"
      }
    },
    {
      "cell_type": "code",
      "source": [
        "counter = 0\n",
        "while counter < 5:\n",
        "    print(counter)\n",
        "    counter += 1\n",
        "\n",
        "print('final counter',counter)"
      ],
      "metadata": {
        "id": "3GdFBntylvIF"
      },
      "execution_count": null,
      "outputs": []
    },
    {
      "cell_type": "markdown",
      "source": [
        "### ✏️**Exercise**\n",
        "\n",
        "In this exercise, you will simulate monitoring blood glucose levels over time. The goal is to continuously check the glucose level and stop monitoring once the glucose level falls within a healthy range.\n",
        "\n",
        "You have a sensor that measures blood glucose levels every minute. Initially, the blood glucose level is above the healthy range, and your task is to continuously check the glucose level until it falls within the desired range (70 to 120 mg/dL). Each time you check, the glucose level decreases by a random amount (simulating the effect of insulin or natural body regulation).\n",
        "\n",
        "1. Set a variable equal to an initial glucose level of 200.\n",
        "2. Simulate a decrease in glucose level by subtracting a random value between 5 and 15 mg/dL.\n",
        "3. Use a ```while``` loop to simulate the continuous monitoring of glucose levels.\n",
        "4. Report how long (in minutes) it took glucose levels to reach a normal range and the glucose level that was measured to be within the expected range.\n",
        "\n",
        "* **Hint #1:** [```random.randint```](https://docs.python.org/3/library/random.html) can be used to simulate a random integer. Look up the function to see how to specify an integer range.\n",
        "* **Hint #2:** Make sure the ```while``` loop is false once the measured glucose level is within the desired range.  \n"
      ],
      "metadata": {
        "id": "_KDD6GUgv7NY"
      }
    },
    {
      "cell_type": "code",
      "source": [
        "import random\n",
        "\n",
        "random.seed(10)\n"
      ],
      "metadata": {
        "id": "2xrn8Z1GIhRD"
      },
      "execution_count": null,
      "outputs": []
    },
    {
      "cell_type": "markdown",
      "source": [
        "# [Handling Exceptions](https://docs.python.org/3/tutorial/errors.html#handling-exceptions)\n",
        " * *try-except* blocks are used to handle exceptions (errors) that may occur during the execution of a program. This helps prevent the program from crashing and allows you to manage errors gracefully.\n",
        "\n",
        "* The code that might cause an exception is placed inside the try block. If an exception occurs, the program immediately jumps to the corresponding except block, where you can define how to handle the error.\n",
        "\n"
      ],
      "metadata": {
        "id": "D59PB4COk6PL"
      }
    },
    {
      "cell_type": "code",
      "source": [
        " try:\n",
        "    # Prompt the user to enter a number\n",
        "    user_input = input(\"Enter a number: \")\n",
        "\n",
        "    # Attempt to convert the input to an integer\n",
        "    number = int(user_input)\n",
        "except ValueError:\n",
        "    print(\"Error: That's not a valid number. Please enter a numeric value.\")\n",
        "else:\n",
        "    print(f\"Success! You entered the number {number}.\")\n"
      ],
      "metadata": {
        "id": "Zp--4MYHmMgq"
      },
      "execution_count": null,
      "outputs": []
    },
    {
      "cell_type": "markdown",
      "source": [
        "#[Default Arguments in Funcctions](https://docs.python.org/3/tutorial/controlflow.html#default-argument-values)\n",
        "\n",
        "* Allow you to include optional arguments that will be set to a value if they are not included when calling the function.\n",
        "* Providing the argument will replace the default with your own"
      ],
      "metadata": {
        "id": "z-4OLIY7TXmX"
      }
    },
    {
      "cell_type": "code",
      "source": [
        "def say_hello(name=\"World\"):\n",
        "  print(\"Hello\",name+\"!\")\n",
        "\n",
        "say_hello()"
      ],
      "metadata": {
        "colab": {
          "base_uri": "https://localhost:8080/"
        },
        "id": "lYfvYf7wULhr",
        "outputId": "191a8f92-2727-4130-b9a6-f07af3a15490"
      },
      "execution_count": 2,
      "outputs": [
        {
          "output_type": "stream",
          "name": "stdout",
          "text": [
            "Hello World!\n"
          ]
        }
      ]
    }
  ],
  "metadata": {
    "colab": {
      "provenance": []
    },
    "kernelspec": {
      "display_name": "Python 3.9.7 64-bit",
      "language": "python",
      "name": "python3"
    },
    "language_info": {
      "name": "python",
      "version": "3.9.7"
    },
    "orig_nbformat": 4,
    "vscode": {
      "interpreter": {
        "hash": "5974ac25dc9be56ffc04c26f1dcea484687dd3721d1ee5a9c3f4a235d03fe9b9"
      }
    }
  },
  "nbformat": 4,
  "nbformat_minor": 0
}