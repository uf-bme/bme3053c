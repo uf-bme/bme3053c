{
  "nbformat": 4,
  "nbformat_minor": 0,
  "metadata": {
    "colab": {
      "provenance": []
    },
    "kernelspec": {
      "name": "python3",
      "display_name": "Python 3"
    },
    "language_info": {
      "name": "python"
    }
  },
  "cells": [
    {
      "cell_type": "markdown",
      "source": [
        "#BME3053C - Computer Applications for BME\n",
        "\n",
        "<br/>\n",
        "\n",
        "<h1 align=\"center\">Matplotlib and Numpy</h1>\n",
        "\n",
        "---\n",
        "\n",
        "<center><h2>Lesson 03</h2></center>\n",
        "\n",
        "\n",
        "[![Open In Colab](https://colab.research.google.com/assets/colab-badge.svg)](https://colab.research.google.com/github/uf-bme/bme3053c/blob/main/lessons/03_Matplotlib_and_Numpy.ipynb)"
      ],
      "metadata": {
        "id": "uXompUvJn9dG"
      }
    },
    {
      "cell_type": "markdown",
      "source": [
        "#[Matplotlib](https://matplotlib.org/)"
      ],
      "metadata": {
        "id": "8xcwpt7G_v7q"
      }
    },
    {
      "cell_type": "markdown",
      "source": [
        "* Matplotlib is a widely used Python library for creating static, interactive, and animated visualizations, primarily for 2D plotting. It is a core tool for data visualization in scientific computing and data analysis.\n",
        "* Matplotlib was created to provide a MATLAB-like plotting environment for Python. It has since evolved into a powerful and versatile library for a wide range of plotting needs.\n",
        "* Supports basic plot types, including line plots, scatter plots, bar charts, histograms, and pie charts. These can be created with simple function calls like [```plt.plot()```](https://matplotlib.org/stable/api/_as_gen/matplotlib.pyplot.plot.html), [```plt.scatter()```](https://matplotlib.org/stable/api/_as_gen/matplotlib.pyplot.scatter.html), [```plt.bar()```](https://matplotlib.org/stable/api/_as_gen/matplotlib.pyplot.bar.html).\n",
        "* Allows extensive plot customization, including control over axes, gridlines, labels, titles, colors, line styles, and markers. You can fine-tune your visualizations to suit specific needs or preferences.\n",
        "* Plots created in Matplotlib can be saved in various formats, including PNG, PDF, SVG, and more, using [```plt.savefig()```](https://matplotlib.org/stable/api/_as_gen/matplotlib.pyplot.savefig.html).\n",
        "* Plots can be displayed using [```plt.show()```](https://matplotlib.org/stable/api/_as_gen/matplotlib.pyplot.show.html)\n"
      ],
      "metadata": {
        "id": "uadbnMkR_xr_"
      }
    },
    {
      "cell_type": "markdown",
      "source": [
        "##Importing Matplotlib's [pyplot](https://matplotlib.org/3.5.3/api/_as_gen/matplotlib.pyplot.html) module\n",
        "\n",
        "\n",
        "* When importing libraries, you can change their name using ```as```\n",
        "  * For example, ```import x as y``` will import library x, which can be accessed using ```y.some_function()```  \n",
        "\n",
        "The pyplot module is usually imported as ```plt```\n",
        "\n",
        "```\n",
        "import matplotlib.pyplot as plt\n",
        "```\n"
      ],
      "metadata": {
        "id": "-ec-4T-1VGfh"
      }
    },
    {
      "cell_type": "code",
      "source": [
        "#import matplotlib.pyplot below\n"
      ],
      "metadata": {
        "id": "qGfufXJ6Cp9X"
      },
      "execution_count": null,
      "outputs": []
    },
    {
      "cell_type": "code",
      "source": [
        "my_list=[1, 2, 3, 3, 4, 5, 4]\n",
        "plt.plot(my_list)\n",
        "plt.show()"
      ],
      "metadata": {
        "id": "nlCNcT6PBZPk"
      },
      "execution_count": null,
      "outputs": []
    },
    {
      "cell_type": "markdown",
      "source": [
        "##Labeling axes, title and adding a legend\n",
        "* [```plt.xlabel```](https://matplotlib.org/stable/api/_as_gen/matplotlib.pyplot.xlabel.html) and [```plt.ylabel```](https://matplotlib.org/stable/api/_as_gen/matplotlib.pyplot.ylabel.html) These functions are used to label the x-axis and y-axis of a plot.\n",
        "  * provides important context that helps the reader understand what the plot’s axes represent (e.g., time, temperature, frequency).\n",
        "\n",
        "* [```plt.legend()```](https://matplotlib.org/stable/api/_as_gen/matplotlib.pyplot.legend.html) adds a legend to the plot, explaining what each line, marker, or series represents. This is crucial when plotting multiple datasets or elements to differentiate between them clearly.\n",
        "  * You can provide a ```label``` argument when using ```plt.plot``` that will be listed in the legend.\n",
        "  * The ```loc``` parameter can be used to set the position of the legend."
      ],
      "metadata": {
        "id": "HDETdWqLCl2C"
      }
    },
    {
      "cell_type": "code",
      "source": [
        "plt.ylabel('Y Values')\n",
        "plt.xlabel('X Values')"
      ],
      "metadata": {
        "id": "dIJrtLHGC2H_"
      },
      "execution_count": null,
      "outputs": []
    },
    {
      "cell_type": "code",
      "source": [
        "patient_1_data=[1, 2, 3, 3, 4]\n",
        "patient_2_data=[2, 3,5, 4, 5]\n",
        "\n",
        "plt.plot(patient_1_data,label=\"Patient 1\")\n",
        "plt.plot(patient_2_data,label=\"Patient 2\")\n",
        "plt.title('My Title')\n",
        "\n",
        "plt.xlabel('X Values')\n",
        "plt.ylabel('Y Values')\n",
        "plt.legend( loc='upper right')\n",
        "\n",
        "plt.show()"
      ],
      "metadata": {
        "id": "-TAeWQFcCnox"
      },
      "execution_count": null,
      "outputs": []
    },
    {
      "cell_type": "markdown",
      "source": [
        "##Changing the style of individual plots\n",
        "\n",
        "* The linestyle parameter in [```plt.plot()```](https://matplotlib.org/stable/api/_as_gen/matplotlib.pyplot.plot.html) can change the appearance of the plot's line.\n",
        "* The marker parameter is used to define the marker style for individual data points.\n",
        "* The color parameter can be used to specify a specific color for each line"
      ],
      "metadata": {
        "id": "xLfmUykSH2cX"
      }
    },
    {
      "cell_type": "code",
      "source": [
        "patient_1_data=[1, 2, 3, 3, 4]\n",
        "patient_2_data=[2, 3,5, 4, 5]\n",
        "\n",
        "plt.plot(patient_1_data,label=\"Patient 1\",marker='s')\n",
        "plt.plot(patient_2_data,label=\"Patient 2\",linestyle='-.',color='r')\n",
        "plt.title('My Title')\n",
        "\n",
        "plt.xlabel('X Values')\n",
        "plt.ylabel('Y Values')\n",
        "plt.legend( loc='upper right')\n",
        "\n",
        "plt.show()"
      ],
      "metadata": {
        "id": "65CbPo-pMYiF"
      },
      "execution_count": null,
      "outputs": []
    },
    {
      "cell_type": "markdown",
      "source": [
        "#### ✏️**Exercise**\n",
        "You are analyzing a dataset that contains heart rate measurements taken every minute for a 30-minute exercise session. The data includes the heart rate at each minute and the corresponding time in minutes. Your task is to visualize the heart rate changes over time and highlight key periods where the heart rate was either too low or too high, indicating potential cardiovascular concerns.\n",
        "\n",
        "1. Create a function that plots the heart rate data over time. The function should receive the ```heart_rate``` list as an input.\n",
        "2. Mark the heart rate levels that are considered \"too low\" (< 60 beats per minute) and \"too high\" (> 160 beats per minute).\n",
        "3. Customize the plot with different styles for each line, a title, labeled axes, and a legend.\n",
        "\n",
        "* **Hint #1:** [```plt.axhline```](https://matplotlib.org/stable/api/_as_gen/matplotlib.pyplot.axhline.html) can be used to draw horizontal lines. It accepts similar arguments as ```plt.plot``` for styling.\n"
      ],
      "metadata": {
        "id": "Az0A5X6TBgdE"
      }
    },
    {
      "cell_type": "code",
      "source": [
        "heart_rate = [72, 75, 78, 80, 85, 90, 95, 100, 105, 110, 115, 120, 125, 130,\n",
        "              135, 140, 145, 150, 155, 160, 165, 170, 175, 180, 178, 175, 172,\n",
        "              160, 150, 140, 130]  # Heart rate in beats per minute (bpm)\n",
        "\n"
      ],
      "metadata": {
        "id": "NyZnSJqL_yUI"
      },
      "execution_count": null,
      "outputs": []
    },
    {
      "cell_type": "markdown",
      "source": [
        "#Numpy"
      ],
      "metadata": {
        "id": "iBHmY-BGqb89"
      }
    },
    {
      "cell_type": "markdown",
      "source": [
        "\n",
        "NumPy is a powerful Python library used for numerical computing, providing support for arrays and matrices, along with a wide range of mathematical functions. NumPy is widely used in data science, machine learning, scientific computing, and engineering, forming the foundation for libraries like Pandas, SciPy, and TensorFlow.\n",
        "\n",
        "* **Key Feature**: N-dimensional Arrays ([numpy.ndarray](https://numpy.org/doc/stable/reference/generated/numpy.ndarray.html))\n",
        "  * NumPy's primary feature is its ```ndarray```, a multidimensional array that allows for efficient data manipulation and storage.\n",
        "  * Unlike Python lists, NumPy arrays are of a fixed size and contain elements of the same type.\n",
        "  * You can easily create arrays using [```np.array()```](https://numpy.org/doc/stable/reference/generated/numpy.array.html), [```np.zeros()```](https://numpy.org/doc/stable/reference/generated/numpy.zeros.html), [```np.ones()```](https://numpy.org/doc/stable/reference/generated/numpy.ones.html).\n",
        "  * NumPy supports element-wise operations, allowing you to perform arithmetic directly on arrays without needing loops.\n",
        "  * NumPy arrays can be sliced and indexed in various ways, similar to Python lists, allowing for easy access and modification of elements.\n",
        "* NumPy provides powerful aggregation functions like [```np.sum()```](https://numpy.org/doc/stable/reference/generated/numpy.sum.html), [```np.mean()```](https://numpy.org/doc/stable/reference/generated/numpy.mean.html), and [```np.max()```](https://numpy.org/doc/stable/reference/generated/numpy.max.html) that allow you to compute statistics across entire arrays efficiently."
      ],
      "metadata": {
        "id": "j-Es3BTHqYYU"
      }
    },
    {
      "cell_type": "markdown",
      "source": [
        "##Importing Numpy\n",
        "The Numpy is usually imported as np\n",
        "```\n",
        "import numpy as np\n",
        "```"
      ],
      "metadata": {
        "id": "IfGOrkWUsRBL"
      }
    },
    {
      "cell_type": "code",
      "source": [
        "#import numpy below\n"
      ],
      "metadata": {
        "id": "85fP1KB0sbsN"
      },
      "execution_count": null,
      "outputs": []
    },
    {
      "cell_type": "markdown",
      "source": [
        "##Creating Arrays\n"
      ],
      "metadata": {
        "id": "EHmXIrwjTvJC"
      }
    },
    {
      "cell_type": "code",
      "source": [
        "my_array=np.array([4,5,6])\n",
        "print('my_array:',my_array)\n",
        "print('array mean: ', np.mean(my_array))\n",
        "print('array sum: ', np.sum(my_array))\n",
        "print('array min: ', np.min(my_array))"
      ],
      "metadata": {
        "id": "ZSYDWTxJTyZ4"
      },
      "execution_count": null,
      "outputs": []
    },
    {
      "cell_type": "markdown",
      "source": [
        "##Multidimensional Arrays\n",
        "* For multidimensional arrays (e.g., 2D, 3D arrays), you use a comma-separated list of indices inside square brackets to access specific elements. The first index refers to the row, the second index to the column, and so on for higher dimensions."
      ],
      "metadata": {
        "id": "b_VZk0kASrRi"
      }
    },
    {
      "cell_type": "code",
      "source": [
        "arr = np.array([[1, 2, 3],\n",
        "                [4, 5, 6]])\n",
        "print(arr[1, 2])\n",
        "print('arr shape:',np.shape(arr))"
      ],
      "metadata": {
        "id": "M8KuEc15UZyM"
      },
      "execution_count": null,
      "outputs": []
    },
    {
      "cell_type": "markdown",
      "source": [
        "##Broadcasting Arrays\n",
        "\n",
        "* Broadcasting allows NumPy to handle operations between arrays of different shapes, making it flexible for mathematical operations without needing to reshape arrays manually."
      ],
      "metadata": {
        "id": "cWuWuy6nxkwH"
      }
    },
    {
      "cell_type": "code",
      "source": [
        "A = np.array([[1, 2, 3],\n",
        "              [4, 5, 6],\n",
        "              [7, 8, 9]])\n",
        "\n",
        "\n",
        "B = np.array([10, 20, 30])\n",
        "\n",
        "# Adding A and B\n",
        "C = A + B\n",
        "\n",
        "print(\"2D array A:\")\n",
        "print(A)\n",
        "print(\"shape of A:\",np.shape(A))\n",
        "print(\"\\n1D array B:\")\n",
        "print(B)\n",
        "print(\"shape of B:\",np.shape(B))\n",
        "print(\"\\nResult of A + B (Broadcasting):\")\n",
        "print(C)\n",
        "print(\"shape of C:\",np.shape(C))\n"
      ],
      "metadata": {
        "id": "Lce8v4BuxhBD"
      },
      "execution_count": null,
      "outputs": []
    },
    {
      "cell_type": "code",
      "source": [
        "A = np.array([[1, 2, 3],\n",
        "              [4, 5, 6],\n",
        "              [7, 8, 9]])\n",
        "\n",
        "B = np.array([[10, 20, 30]])\n",
        "\n",
        "# Adding A and B\n",
        "C = A + B\n",
        "\n",
        "print(\"2D array A:\")\n",
        "print(A)\n",
        "\n",
        "print(\"\\n1D array B:\")\n",
        "print(B)\n",
        "\n",
        "print(\"\\nResult of A + B (Broadcasting):\")\n",
        "print(C)"
      ],
      "metadata": {
        "id": "B-_Ia3Q_RujK"
      },
      "execution_count": null,
      "outputs": []
    },
    {
      "cell_type": "markdown",
      "source": [
        "#### ✏️**Exercise**\n",
        "You have collected EMG (electromyography) signals over time during a clinical trial. The data is represented in a 2D NumPy array, where column corresponds to a time point (1000 time points in total). Additionally, you have a time-varying gain factor that needs to be applied to each muscle's EMG signal at every time point. The gain factor increases over time and is represented by a 1D array with 1000 values.\n",
        "\n",
        "1. Create a function that multiplies the gain to each muscles EMG signal and returns the adjusted emg signal.\n",
        "2. Follow the instructions in [this link](https://matplotlib.org/stable/gallery/subplots_axes_and_figures/share_axis_lims_views.html#sphx-glr-gallery-subplots-axes-and-figures-share-axis-lims-views-py) to display the previous and adjusted signals using [subplots](https://matplotlib.org/stable/api/_as_gen/matplotlib.pyplot.subplot.html)\n",
        "3. Set the y limits of each subplot to be equivalent using [```set_ylim```](https://matplotlib.org/stable/api/_as_gen/matplotlib.axes.Axes.set_ylim.html)."
      ],
      "metadata": {
        "id": "dLApR0oFXC0Q"
      }
    },
    {
      "cell_type": "code",
      "source": [
        "emg_data = np.random.randn(1000) * 100  # Generating random EMG-like data\n",
        "\n",
        "# Increasing gain factor\n",
        "gain_factor = np.linspace(0.1, 5, 1000)\n"
      ],
      "metadata": {
        "id": "fWJOCMQWXDs9"
      },
      "execution_count": null,
      "outputs": []
    }
  ]
}
