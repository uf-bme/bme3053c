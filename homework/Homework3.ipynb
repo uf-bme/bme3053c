{
  "nbformat": 4,
  "nbformat_minor": 0,
  "metadata": {
    "colab": {
      "provenance": [],
      "authorship_tag": "ABX9TyN5M2vZ2WbKn1squtmsA0cH",
      "include_colab_link": true
    },
    "kernelspec": {
      "name": "python3",
      "display_name": "Python 3"
    },
    "language_info": {
      "name": "python"
    }
  },
  "cells": [
    {
      "cell_type": "markdown",
      "metadata": {
        "id": "view-in-github",
        "colab_type": "text"
      },
      "source": [
        "<a href=\"https://colab.research.google.com/github/Gianflores2003/bme3053c/blob/main/homework/Homework3.ipynb\" target=\"_parent\"><img src=\"https://colab.research.google.com/assets/colab-badge.svg\" alt=\"Open In Colab\"/></a>"
      ]
    },
    {
      "cell_type": "markdown",
      "source": [
        "Pulse oximetry is a non-invasive method used to measure the oxygen saturation (SpO2) level in the blood. The device measures the absorption of light at two wavelengths (usually red and infrared) to estimate SpO2. One of the challenges in pulse oximetry is identifying and analyzing peaks in the photoplethysmogram (PPG) signal, which corresponds to the heartbeats.\n",
        "\n",
        "\n",
        "\n",
        "You have a list of PPG signal values (simulated data) over time, sampled at regular intervals. Your task is to write a function that counts the number of peaks in the PPG signal using a for loop and range.\n",
        "\n",
        "\n",
        "\n",
        "Copy the code below into a python file or Colab notebook.\n",
        "Create a function that receives a list as an input argument and uses a for loop with range to iterate through the PPG signal values and identify peaks.\n",
        "A peak is a signal point where the value is greater than its immediate neighbors. Specifically, for a value at index i to be considered a peak, it must satisfy:\n",
        "ppg_signal[i] > ppg_signal[i - 1]\n",
        "ppg_signal[i] > ppg_signal[i + 1]\n",
        "Your function should count the total number of peaks and print that value.\n",
        "Call your function with ppg_signal as the input.\n",
        "Upload your script or notebook.\n",
        "\n",
        "\n",
        "import math\n",
        "import random\n",
        "\n",
        "ppg_signal = [1000 + 100 * math.sin(0.1 * x) + random.randint(-20, 20) for x in range(100)]\n"
      ],
      "metadata": {
        "id": "OwVLicokQIhZ"
      }
    },
    {
      "cell_type": "code",
      "source": [],
      "metadata": {
        "id": "6I11i1LLUips"
      },
      "execution_count": null,
      "outputs": []
    },
    {
      "cell_type": "code",
      "execution_count": null,
      "metadata": {
        "id": "mrBlq8sxPuy1",
        "colab": {
          "base_uri": "https://localhost:8080/"
        },
        "outputId": "7fef800d-35b5-4c69-fb06-30916f6316b1"
      },
      "outputs": [
        {
          "output_type": "stream",
          "name": "stdout",
          "text": [
            "32\n"
          ]
        }
      ],
      "source": [
        "import math\n",
        "import random\n",
        "ppg_signal = [1000 + 100 * math.sin(0.1 * x) + random.randint(-20, 20) for x in range(100)]\n",
        "peaks=[]\n",
        "\n",
        "def count_peaks(ppg_signal):\n",
        "  for i in range(len(ppg_signal)-1):\n",
        "\n",
        "    if ppg_signal[i] > ppg_signal[i - 1] and ppg_signal[i] > ppg_signal[i+ 1]:\n",
        "\n",
        "      peaks.append(ppg_signal[i])\n",
        "\n",
        "\n",
        "  return peaks\n",
        "peaks= count_peaks(ppg_signal)\n",
        "\n",
        "print(len(peaks))\n",
        "\n"
      ]
    }
  ]
}